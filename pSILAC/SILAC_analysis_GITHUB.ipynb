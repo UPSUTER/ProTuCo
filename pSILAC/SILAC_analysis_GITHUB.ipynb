{
 "cells": [
  {
   "cell_type": "code",
   "execution_count": 1,
   "id": "09fe8e3b",
   "metadata": {
    "ExecuteTime": {
     "end_time": "2024-10-11T10:41:14.052322Z",
     "start_time": "2024-10-11T10:41:09.151530Z"
    }
   },
   "outputs": [],
   "source": [
    "import pandas as pd\n",
    "import numpy as np\n",
    "from sklearn.linear_model import LinearRegression\n",
    "import matplotlib.pyplot as pl"
   ]
  },
  {
   "cell_type": "markdown",
   "id": "63a5ca55",
   "metadata": {},
   "source": [
    "## Analysis DMSO"
   ]
  },
  {
   "cell_type": "code",
   "execution_count": null,
   "id": "8618b4de",
   "metadata": {},
   "outputs": [],
   "source": [
    "df_results = pd.read_table(\"./peptides.txt\")\n",
    "## Remove decoy sequences and contaminants\n",
    "df_results_filter_cont = df_results.loc[df_results['Reverse']!=\"+\"]\n",
    "df_results_filter_cont = df_results_filter_cont.loc[df_results_filter_cont['Potential contaminant']!=\"+\"]\n",
    "## Remove false heavy signal\n",
    "df_results_remove_H0 = df_results_filter_cont.drop(df_results_filter_cont[df_results_filter_cont[\"Intensity H DMSO_t0\"]>0].index)\n",
    "## Compute %L\n",
    "df_results_remove_H0[\"percent_DMSO_L2\"] = 1/(1+df_results_remove_H0[\"Ratio H/L DMSO_t2\"])\n",
    "df_results_remove_H0[\"percent_DMSO_L6\"] = 1/(1+df_results_remove_H0[\"Ratio H/L DMSO_t6\"])\n",
    "## Compute log(%L)\n",
    "df_results_remove_H0[\"percent_DMSO_L2_log\"] = np.log(df_results_remove_H0[\"percent_DMSO_L2\"])\n",
    "df_results_remove_H0[\"percent_DMSO_L6_log\"] = np.log(df_results_remove_H0[\"percent_DMSO_L6\"])\n",
    "## Fit the data\n",
    "df_results_analysed = pd.DataFrame(columns=[\"Protein_group_ID\",\"k_computed\", \"r_sq\"])\n",
    "for group_id in df_results_remove_H0[\"Protein group IDs\"].unique():\n",
    "    print(group_id)\n",
    "    sub_df = df_results_remove_H0[df_results_remove_H0[\"Protein group IDs\"]==group_id]\n",
    "    list_time_all_peptides = []\n",
    "    list_percent_L_all_peptides = []\n",
    "    for index in sub_df.index:\n",
    "        list_tmp_percent_L = [0,float(sub_df.loc[[index]][\"percent_DMSO_L2_log\"]),float(sub_df.loc[[index]][\"percent_DMSO_L6_log\"])]\n",
    "        if not np.isnan(list_tmp_percent_L).any():\n",
    "            list_time_all_peptides += [0,2,6]\n",
    "            list_percent_L_all_peptides += list_tmp_percent_L\n",
    "    if len(list_time_all_peptides)>0:\n",
    "        X = np.array(list_time_all_peptides).reshape(-1, 1)\n",
    "        y = np.array(list_percent_L_all_peptides).reshape(-1, 1)\n",
    "        reg = LinearRegression(fit_intercept=False).fit(X, y)\n",
    "        df_results_tmps = pd.DataFrame(np.array([[group_id,-reg.coef_[0,0],reg.score(X, y)]]), columns=[\"Protein_group_ID\",\"k_computed\", \"r_sq\"])\n",
    "        df_results_analysed = df_results_analysed.append(df_results_tmps,ignore_index=True)\n",
    "## Save the data\n",
    "df_results_analysed[\"r_sq\"] = np.float64(np.array(df_results_analysed[\"r_sq\"]))\n",
    "df_results_analysed[\"k_computed\"] = np.float64(np.array(df_results_analysed[\"k_computed\"]))\n",
    "df_results_analysed.to_csv(\"./res_fit_DMSO_no_cont.csv\")"
   ]
  },
  {
   "cell_type": "markdown",
   "id": "483087d5",
   "metadata": {},
   "source": [
    "## Analysis CHX"
   ]
  },
  {
   "cell_type": "code",
   "execution_count": null,
   "id": "01dd3017",
   "metadata": {},
   "outputs": [],
   "source": [
    "df_results = pd.read_table(\"./peptides.txt\")\n",
    "## Remove decoy sequences and contaminants\n",
    "df_results_filter_cont = df_results.loc[df_results['Reverse']!=\"+\"]\n",
    "df_results_filter_cont = df_results_filter_cont.loc[df_results_filter_cont['Potential contaminant']!=\"+\"]\n",
    "## Remove false heavy signal\n",
    "df_results_remove_H0 = df_results_filter_cont.drop(df_results_filter_cont[df_results_filter_cont[\"Intensity H CHX_t0\"]>0].index)\n",
    "## Compute %L\n",
    "df_results_remove_H0[\"percent_CHX_L2\"] = 1/(1+df_results_remove_H0[\"Ratio H/L CHX_t2\"])\n",
    "df_results_remove_H0[\"percent_CHX_L6\"] = 1/(1+df_results_remove_H0[\"Ratio H/L CHX_t6\"])\n",
    "## Compute log(%L)\n",
    "df_results_remove_H0[\"percent_CHX_L2_log\"] = np.log(df_results_remove_H0[\"percent_CHX_L2\"])\n",
    "df_results_remove_H0[\"percent_CHX_L6_log\"] = np.log(df_results_remove_H0[\"percent_CHX_L6\"])\n",
    "## Fit the data\n",
    "df_results_analysed = pd.DataFrame(columns=[\"Protein_group_ID\",\"k_computed\", \"r_sq\"])\n",
    "\n",
    "for group_id in df_results_remove_H0[\"Protein group IDs\"].unique():\n",
    "    print(group_id)\n",
    "    sub_df = df_results_remove_H0[df_results_remove_H0[\"Protein group IDs\"]==group_id]\n",
    "    list_time_all_peptides = []\n",
    "    list_percent_L_all_peptides = []\n",
    "    for index in sub_df.index:\n",
    "        list_tmp_percent_L = [0,float(sub_df.loc[[index]][\"percent_CHX_L2_log\"]),float(sub_df.loc[[index]][\"percent_CHX_L6_log\"])]\n",
    "        if not np.isnan(list_tmp_percent_L).any():\n",
    "            list_time_all_peptides += [0,2,6]\n",
    "            list_percent_L_all_peptides += list_tmp_percent_L\n",
    "    if len(list_time_all_peptides)>0:\n",
    "        X = np.array(list_time_all_peptides).reshape(-1, 1)\n",
    "        y = np.array(list_percent_L_all_peptides).reshape(-1, 1)\n",
    "        reg = LinearRegression(fit_intercept=False).fit(X, y)\n",
    "        df_results_tmps = pd.DataFrame(np.array([[group_id,-reg.coef_[0,0],reg.score(X, y)]]), columns=[\"Protein_group_ID\",\"k_computed\", \"r_sq\"])\n",
    "        df_results_analysed = df_results_analysed.append(df_results_tmps,ignore_index=True)\n",
    "## Save the data\n",
    "df_results_analysed[\"r_sq\"] = np.float64(np.array(df_results_analysed[\"r_sq\"]))\n",
    "df_results_analysed[\"k_computed\"] = np.float64(np.array(df_results_analysed[\"k_computed\"]))\n",
    "df_results_analysed.to_csv(\"./res_fit_CHX_nocont.csv\")"
   ]
  },
  {
   "cell_type": "markdown",
   "id": "1ed1dab6",
   "metadata": {},
   "source": [
    "## Plot unique protein_IDs"
   ]
  },
  {
   "cell_type": "code",
   "execution_count": null,
   "id": "5c38633c",
   "metadata": {},
   "outputs": [],
   "source": [
    "## CHX\n",
    "\n",
    "df_results_analysed = pd.read_csv(\"./res_fit_CHX_nocont.csv\")\n",
    "print(len(df_results_analysed))\n",
    "\n",
    "df_results_analysed[\"r_sq\"] = np.float64(np.array(df_results_analysed[\"r_sq\"]))\n",
    "df_results_analysed[\"k_computed\"] = np.float64(np.array(df_results_analysed[\"k_computed\"]))\n",
    "df_results_analysed_filtered_rsq = df_results_analysed.drop(df_results_analysed[df_results_analysed[\"r_sq\"]<0.9].index)\n",
    "print(len(df_results_analysed_filtered_rsq))\n",
    "\n",
    "Mask_shared_peptides = []\n",
    "for prot_id in df_results_analysed_filtered_rsq[\"Protein_group_ID\"]:\n",
    "    Mask_shared_peptides +=  [len(prot_id.split(sep=\";\"))>1]\n",
    "    \n",
    "print(100*np.sum(Mask_shared_peptides)/len(df_results_analysed_filtered_rsq))\n",
    "\n",
    "df_results_analysed_filtered_rsq_drop_duplicate = df_results_analysed_filtered_rsq.drop(df_results_analysed_filtered_rsq[Mask_shared_peptides].index)\n",
    "df_results_analysed_filtered_rsq_drop_duplicate[\"Protein_group_ID\"] = np.int64(np.array(df_results_analysed_filtered_rsq_drop_duplicate[\"Protein_group_ID\"]))\n",
    "\n",
    "print(\"%s unique prot_id!\"%len(df_results_analysed_filtered_rsq_drop_duplicate[\"Protein_group_ID\"].unique()))\n",
    "\n",
    "df_results_analysed_filtered_rsq_drop_duplicate_average_protID = df_results_analysed_filtered_rsq_drop_duplicate.groupby(\"Protein_group_ID\").mean()\n",
    "df_results_analysed_filtered_rsq_drop_duplicate_average_protID[\"HL\"] = np.log(2)/df_results_analysed_filtered_rsq_drop_duplicate_average_protID[\"k_computed\"]\n",
    "print(np.sum(df_results_analysed_filtered_rsq_drop_duplicate_average_protID[\"HL\"]<0))\n",
    "\n",
    "df_results_analysed_filtered_rsq_drop_duplicate_average_protID_CHX = df_results_analysed_filtered_rsq_drop_duplicate_average_protID.copy()\n",
    "\n",
    "pl.hist(df_results_analysed_filtered_rsq_drop_duplicate_average_protID[\"HL\"] , range=(0,100), bins=100, label=\"CHX\", alpha=0.5, density=True)\n",
    "print(\"Mean = \", np.mean(df_results_analysed_filtered_rsq_drop_duplicate_average_protID[\"HL\"] ))\n",
    "print(\"Median = \", np.median(df_results_analysed_filtered_rsq_drop_duplicate_average_protID[\"HL\"] ))\n",
    "\n",
    "\n",
    "## DMSO\n",
    "df_results_analysed = pd.read_csv(\"./res_fit_DMSO_no_cont.csv\")\n",
    "print(len(df_results_analysed))\n",
    "\n",
    "df_results_analysed[\"r_sq\"] = np.float64(np.array(df_results_analysed[\"r_sq\"]))\n",
    "df_results_analysed[\"k_computed\"] = np.float64(np.array(df_results_analysed[\"k_computed\"]))\n",
    "df_results_analysed_filtered_rsq = df_results_analysed.drop(df_results_analysed[df_results_analysed[\"r_sq\"]<0.9].index)\n",
    "print(len(df_results_analysed_filtered_rsq))\n",
    "\n",
    "Mask_shared_peptides = []\n",
    "for prot_id in df_results_analysed_filtered_rsq[\"Protein_group_ID\"]:\n",
    "    Mask_shared_peptides +=  [len(prot_id.split(sep=\";\"))>1]\n",
    "    \n",
    "print(100*np.sum(Mask_shared_peptides)/len(df_results_analysed_filtered_rsq))\n",
    "\n",
    "df_results_analysed_filtered_rsq_drop_duplicate = df_results_analysed_filtered_rsq.drop(df_results_analysed_filtered_rsq[Mask_shared_peptides].index)\n",
    "df_results_analysed_filtered_rsq_drop_duplicate[\"Protein_group_ID\"] = np.int64(np.array(df_results_analysed_filtered_rsq_drop_duplicate[\"Protein_group_ID\"]))\n",
    "\n",
    "print(\"%s unique prot_id!\"%len(df_results_analysed_filtered_rsq_drop_duplicate[\"Protein_group_ID\"].unique()))\n",
    "\n",
    "df_results_analysed_filtered_rsq_drop_duplicate_average_protID = df_results_analysed_filtered_rsq_drop_duplicate.groupby(\"Protein_group_ID\").mean()\n",
    "df_results_analysed_filtered_rsq_drop_duplicate_average_protID[\"HL\"] = np.log(2)/df_results_analysed_filtered_rsq_drop_duplicate_average_protID[\"k_computed\"]\n",
    "print(np.sum(df_results_analysed_filtered_rsq_drop_duplicate_average_protID[\"HL\"]<0))\n",
    "\n",
    "df_results_analysed_filtered_rsq_drop_duplicate_average_protID_DMSO = df_results_analysed_filtered_rsq_drop_duplicate_average_protID.copy()\n",
    "\n",
    "\n",
    "pl.hist(df_results_analysed_filtered_rsq_drop_duplicate_average_protID[\"HL\"] , range=(0,100), bins=100, label=\"DMSO\", alpha=0.5, density=True)\n",
    "print(\"Mean = \", np.mean(df_results_analysed_filtered_rsq_drop_duplicate_average_protID[\"HL\"] ))\n",
    "print(\"Median = \", np.median(df_results_analysed_filtered_rsq_drop_duplicate_average_protID[\"HL\"] ))\n",
    "\n",
    "pl.xlim(0,100)\n",
    "pl.xlabel(\"Protein HL (hours)\")\n",
    "pl.ylabel(\"Density\")\n",
    "pl.legend()\n",
    "#pl.savefig(\"./figures/density_CHX_DMSO.pdf\")"
   ]
  },
  {
   "cell_type": "markdown",
   "id": "3bfc1b8d",
   "metadata": {},
   "source": [
    "## Find shared protein_IDs"
   ]
  },
  {
   "cell_type": "code",
   "execution_count": null,
   "id": "869e389d",
   "metadata": {},
   "outputs": [],
   "source": [
    "df_merged = pd.merge(df_results_analysed_filtered_rsq_drop_duplicate_average_protID_DMSO, df_results_analysed_filtered_rsq_drop_duplicate_average_protID_CHX, left_index=True, right_index=True,suffixes=(\"_DMSO\",\"_CHX\"))\n",
    "print(len(df_merged))\n",
    "df_merged[\"FC_k\"] = df_merged[\"k_computed_DMSO\"]/df_merged[\"k_computed_CHX\"]\n",
    "pl.hist(df_merged[\"FC_k\"], density=\"True\", range=(0,4), bins=50)\n",
    "\n",
    "pl.xlim(0,4)\n",
    "pl.xlabel(\"k_DMSO/k_CHX (per prot)\")\n",
    "pl.ylabel(\"Density\")"
   ]
  },
  {
   "cell_type": "code",
   "execution_count": null,
   "id": "891e28f9",
   "metadata": {},
   "outputs": [],
   "source": [
    "pl.scatter(df_merged[\"k_computed_DMSO\"],df_merged[\"k_computed_CHX\"], alpha=0.5)\n",
    "pl.plot(np.linspace(0,1,1000),np.linspace(0,1,1000), color=\"k\", ls=\"--\")\n",
    "pl.xlim(0.01,1)\n",
    "pl.ylim(0.01,1)\n",
    "pl.xscale(\"log\")\n",
    "pl.yscale(\"log\")\n",
    "pl.xlabel(\"k_DMSO (h-1)\")\n",
    "pl.ylabel(\"k_CHX (h-1)\")"
   ]
  },
  {
   "cell_type": "code",
   "execution_count": null,
   "id": "55a20bfa",
   "metadata": {},
   "outputs": [],
   "source": []
  }
 ],
 "metadata": {
  "kernelspec": {
   "display_name": "Python 3 (ipykernel)",
   "language": "python",
   "name": "python3"
  },
  "language_info": {
   "codemirror_mode": {
    "name": "ipython",
    "version": 3
   },
   "file_extension": ".py",
   "mimetype": "text/x-python",
   "name": "python",
   "nbconvert_exporter": "python",
   "pygments_lexer": "ipython3",
   "version": "3.9.15"
  },
  "toc": {
   "base_numbering": 1,
   "nav_menu": {},
   "number_sections": true,
   "sideBar": true,
   "skip_h1_title": false,
   "title_cell": "Table of Contents",
   "title_sidebar": "Contents",
   "toc_cell": false,
   "toc_position": {},
   "toc_section_display": true,
   "toc_window_display": false
  }
 },
 "nbformat": 4,
 "nbformat_minor": 5
}
